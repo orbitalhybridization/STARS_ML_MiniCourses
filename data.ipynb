{
 "cells": [
  {
   "cell_type": "markdown",
   "metadata": {},
   "source": [
    "## Automobile Dataset (UCI Machine Learning Repositoryt)"
   ]
  },
  {
   "cell_type": "markdown",
   "metadata": {},
   "source": [
    "For this week, we'll be doing an exploratory data analysis of the [automobile dataset from UCI](https://archive.ics.uci.edu/dataset/10/automobile). Click the link for the dataset to check out more information about the dataset!\n",
    "\n",
    "Break off into groups of two or three and complete the following."
   ]
  },
  {
   "cell_type": "markdown",
   "metadata": {},
   "source": [
    "### Step 0: Establishing the question"
   ]
  },
  {
   "cell_type": "markdown",
   "metadata": {},
   "source": [
    "This data analysis is *exploratory*, so you might not initially have a question in mind. In this case, we want to characterize what we have in the most comprehensive way we can."
   ]
  },
  {
   "cell_type": "markdown",
   "metadata": {},
   "source": [
    "### Step 1: Environment Setup"
   ]
  },
  {
   "cell_type": "markdown",
   "metadata": {},
   "source": [
    "Once you've cloned this repository, I highly recommend you set up a virtual environment for running the code. To do that you need to set up Python, then create a new virtual environment with a command like `python -m venv virtualenv`, which will create a virtual environment called virtualenv. Make sure you select that virtual environment as the kernel for your Jupyter Notebook session (top right of the window). Then, you can run the next cell."
   ]
  },
  {
   "cell_type": "code",
   "execution_count": 29,
   "metadata": {},
   "outputs": [
    {
     "name": "stdout",
     "output_type": "stream",
     "text": [
      "Requirement already satisfied: pandas in /Users/aurelio/Documents/STARS/mcs/vv/lib/python3.13/site-packages (2.3.0)\n",
      "Requirement already satisfied: numpy in /Users/aurelio/Documents/STARS/mcs/vv/lib/python3.13/site-packages (2.3.1)\n",
      "Requirement already satisfied: matplotlib in /Users/aurelio/Documents/STARS/mcs/vv/lib/python3.13/site-packages (3.10.3)\n",
      "Requirement already satisfied: python-dateutil>=2.8.2 in /Users/aurelio/Documents/STARS/mcs/vv/lib/python3.13/site-packages (from pandas) (2.9.0.post0)\n",
      "Requirement already satisfied: pytz>=2020.1 in /Users/aurelio/Documents/STARS/mcs/vv/lib/python3.13/site-packages (from pandas) (2025.2)\n",
      "Requirement already satisfied: tzdata>=2022.7 in /Users/aurelio/Documents/STARS/mcs/vv/lib/python3.13/site-packages (from pandas) (2025.2)\n",
      "Requirement already satisfied: contourpy>=1.0.1 in /Users/aurelio/Documents/STARS/mcs/vv/lib/python3.13/site-packages (from matplotlib) (1.3.2)\n",
      "Requirement already satisfied: cycler>=0.10 in /Users/aurelio/Documents/STARS/mcs/vv/lib/python3.13/site-packages (from matplotlib) (0.12.1)\n",
      "Requirement already satisfied: fonttools>=4.22.0 in /Users/aurelio/Documents/STARS/mcs/vv/lib/python3.13/site-packages (from matplotlib) (4.58.4)\n",
      "Requirement already satisfied: kiwisolver>=1.3.1 in /Users/aurelio/Documents/STARS/mcs/vv/lib/python3.13/site-packages (from matplotlib) (1.4.8)\n",
      "Requirement already satisfied: packaging>=20.0 in /Users/aurelio/Documents/STARS/mcs/vv/lib/python3.13/site-packages (from matplotlib) (25.0)\n",
      "Requirement already satisfied: pillow>=8 in /Users/aurelio/Documents/STARS/mcs/vv/lib/python3.13/site-packages (from matplotlib) (11.2.1)\n",
      "Requirement already satisfied: pyparsing>=2.3.1 in /Users/aurelio/Documents/STARS/mcs/vv/lib/python3.13/site-packages (from matplotlib) (3.2.3)\n",
      "Requirement already satisfied: six>=1.5 in /Users/aurelio/Documents/STARS/mcs/vv/lib/python3.13/site-packages (from python-dateutil>=2.8.2->pandas) (1.17.0)\n"
     ]
    }
   ],
   "source": [
    "# Run this cell to install the required packages:\n",
    "!pip install pandas numpy matplotlib"
   ]
  },
  {
   "cell_type": "code",
   "execution_count": null,
   "metadata": {},
   "outputs": [],
   "source": [
    "# Run this cell to import the necessary libraries for use in this notebook:\n",
    "import pandas as pd\n",
    "import numpy as np\n",
    "import matplotlib.pyplot as plt"
   ]
  },
  {
   "cell_type": "markdown",
   "metadata": {},
   "source": [
    "### Step 1: Reading the Data"
   ]
  },
  {
   "cell_type": "markdown",
   "metadata": {},
   "source": [
    "In this step you will use the Python package pandas to read in your data. After reading the data, we'll do a few standard operations that are typically done as sanity checks and initial data characterizations."
   ]
  },
  {
   "cell_type": "code",
   "execution_count": null,
   "metadata": {},
   "outputs": [],
   "source": [
    "# In this cell, define the path to the .csv file, and load it into a pandas DataFrame called `df`.\n"
   ]
  },
  {
   "cell_type": "code",
   "execution_count": null,
   "metadata": {},
   "outputs": [
    {
     "name": "stdout",
     "output_type": "stream",
     "text": [
      "   symboling normalized-losses         make fuel-type aspiration num-of-door  \\\n",
      "0          3                 ?  alfa-romero       gas        std         two   \n",
      "1          3                 ?  alfa-romero       gas        std         two   \n",
      "2          1                 ?  alfa-romero       gas        std         two   \n",
      "3          2               164         audi       gas        std        four   \n",
      "4          2               164         audi       gas        std        four   \n",
      "\n",
      "    body-style drive-wheels engine-location  wheel-base  ...  engine-size  \\\n",
      "0  convertible          rwd           front        88.6  ...          130   \n",
      "1  convertible          rwd           front        88.6  ...          130   \n",
      "2    hatchback          rwd           front        94.5  ...          152   \n",
      "3        sedan          fwd           front        99.8  ...          109   \n",
      "4        sedan          4wd           front        99.4  ...          136   \n",
      "\n",
      "   fuel-system  bore  stroke compression-ratio horsepower  peak-rpm city-mpg  \\\n",
      "0         mpfi  3.47    2.68               9.0        111      5000       21   \n",
      "1         mpfi  3.47    2.68               9.0        111      5000       21   \n",
      "2         mpfi  2.68    3.47               9.0        154      5000       19   \n",
      "3         mpfi  3.19    3.40              10.0        102      5500       24   \n",
      "4         mpfi  3.19    3.40               8.0        115      5500       18   \n",
      "\n",
      "  highway-mpg  price  \n",
      "0          27  13495  \n",
      "1          27  16500  \n",
      "2          26  16500  \n",
      "3          30  13950  \n",
      "4          22  17450  \n",
      "\n",
      "[5 rows x 26 columns]\n"
     ]
    }
   ],
   "source": [
    "# Print the first 5 rows of the DataFrame to verify that the data has been loaded correctly (using the `.head()` method).\n"
   ]
  },
  {
   "cell_type": "code",
   "execution_count": null,
   "metadata": {},
   "outputs": [
    {
     "name": "stdout",
     "output_type": "stream",
     "text": [
      "Index(['symboling', 'normalized-losses', 'make', 'fuel-type', 'aspiration',\n",
      "       'num-of-door', 'body-style', 'drive-wheels', 'engine-location',\n",
      "       'wheel-base', 'length', 'width', 'height', 'curb-weight', 'engine-type',\n",
      "       'num-of-cylinders', 'engine-size', 'fuel-system', 'bore', 'stroke',\n",
      "       'compression-ratio', 'horsepower', 'peak-rpm', 'city-mpg',\n",
      "       'highway-mpg', 'price'],\n",
      "      dtype='object')\n"
     ]
    }
   ],
   "source": [
    "# List the column names of the DataFrame (using the `.columns` attribute).\n"
   ]
  },
  {
   "cell_type": "code",
   "execution_count": 30,
   "metadata": {},
   "outputs": [],
   "source": [
    "# Print the number of rows and columns in the DataFrame (you can use the `.shape` attribute).\n"
   ]
  },
  {
   "cell_type": "markdown",
   "metadata": {},
   "source": [
    "### Step 1: Data Cleaning"
   ]
  },
  {
   "cell_type": "markdown",
   "metadata": {},
   "source": [
    "You will notice that a few of the "
   ]
  },
  {
   "cell_type": "code",
   "execution_count": null,
   "metadata": {},
   "outputs": [],
   "source": []
  },
  {
   "cell_type": "code",
   "execution_count": null,
   "metadata": {},
   "outputs": [],
   "source": [
    "# Count the number of missing values in each column (using the `.isnull().sum()` method)."
   ]
  },
  {
   "cell_type": "code",
   "execution_count": null,
   "metadata": {},
   "outputs": [],
   "source": [
    "# Drop the columns with more than 40 missing values"
   ]
  },
  {
   "cell_type": "markdown",
   "metadata": {},
   "source": [
    "### Step 2: Data Exploration & Basic Statistics"
   ]
  },
  {
   "cell_type": "markdown",
   "metadata": {},
   "source": [
    "Often we want to know specific information about the data"
   ]
  },
  {
   "cell_type": "code",
   "execution_count": null,
   "metadata": {},
   "outputs": [],
   "source": [
    "# Print the average and standard deviation of the price of the cars in the dataset."
   ]
  },
  {
   "cell_type": "code",
   "execution_count": null,
   "metadata": {},
   "outputs": [],
   "source": [
    "# Print the maximum horsepower of the cars in the dataset."
   ]
  },
  {
   "cell_type": "code",
   "execution_count": null,
   "metadata": {},
   "outputs": [],
   "source": [
    "# Print the number of car makes in the dataset."
   ]
  },
  {
   "cell_type": "code",
   "execution_count": null,
   "metadata": {},
   "outputs": [],
   "source": [
    "# Print the type of the wheel-base column."
   ]
  },
  {
   "cell_type": "markdown",
   "metadata": {},
   "source": [
    "Data Questions"
   ]
  },
  {
   "cell_type": "code",
   "execution_count": null,
   "metadata": {},
   "outputs": [],
   "source": [
    "# Which car make has the highest average price?\n",
    "\n",
    "# Which car make has the highest average horsepower?"
   ]
  },
  {
   "cell_type": "markdown",
   "metadata": {},
   "source": [
    "### Step 3: Data Visualization"
   ]
  },
  {
   "cell_type": "markdown",
   "metadata": {},
   "source": [
    "Here we'll visualize"
   ]
  },
  {
   "cell_type": "code",
   "execution_count": 12,
   "metadata": {},
   "outputs": [],
   "source": [
    "# Plot a histogram of the 'price' column to visualize the distribution of car prices."
   ]
  },
  {
   "cell_type": "code",
   "execution_count": null,
   "metadata": {},
   "outputs": [],
   "source": [
    "# Make a scatter plot to visualize the relationship between 'horsepower' and 'price'.\n"
   ]
  },
  {
   "cell_type": "code",
   "execution_count": 28,
   "metadata": {},
   "outputs": [],
   "source": [
    "# Make a scatter plot to visualize the relationship between 'engine-size' and 'price'.\n"
   ]
  },
  {
   "cell_type": "code",
   "execution_count": 27,
   "metadata": {},
   "outputs": [],
   "source": [
    "# Make a scatter plot to visualize the relationship between 'peak-rpm' and 'engine-size'.\n"
   ]
  },
  {
   "cell_type": "code",
   "execution_count": null,
   "metadata": {},
   "outputs": [],
   "source": [
    "# Make another plot of your choice to visualize some aspect of the data."
   ]
  },
  {
   "cell_type": "markdown",
   "metadata": {},
   "source": [
    "### Building Intuitions"
   ]
  },
  {
   "cell_type": "markdown",
   "metadata": {},
   "source": [
    "The goal of this notebook is to ask questions about the data and let it tell us the answers. You might notice that there are some predictive relationships in the data (e.g., engine size is closely related to price). In the next notebook, we'll exploit these relationships to build statistical models that learn based on observed data."
   ]
  }
 ],
 "metadata": {
  "kernelspec": {
   "display_name": "vv",
   "language": "python",
   "name": "python3"
  },
  "language_info": {
   "codemirror_mode": {
    "name": "ipython",
    "version": 3
   },
   "file_extension": ".py",
   "mimetype": "text/x-python",
   "name": "python",
   "nbconvert_exporter": "python",
   "pygments_lexer": "ipython3",
   "version": "3.13.5"
  }
 },
 "nbformat": 4,
 "nbformat_minor": 2
}
